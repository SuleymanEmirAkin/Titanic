{
 "cells": [
  {
   "cell_type": "markdown",
   "id": "d54130ef",
   "metadata": {},
   "source": [
    "First import necessary modules"
   ]
  },
  {
   "cell_type": "code",
   "execution_count": 1,
   "id": "d9b147ad",
   "metadata": {},
   "outputs": [],
   "source": [
    "import os\n",
    "import pandas as pd\n",
    "import numpy as np\n",
    "from sklearn import tree\n",
    "from sklearn.impute import SimpleImputer\n",
    "from sklearn.preprocessing import OneHotEncoder, MinMaxScaler, StandardScaler"
   ]
  },
  {
   "cell_type": "markdown",
   "id": "67c1c785",
   "metadata": {},
   "source": [
    "Please modify these paths before running your code"
   ]
  },
  {
   "cell_type": "code",
   "execution_count": 2,
   "id": "203d313c",
   "metadata": {},
   "outputs": [],
   "source": [
    "train_path = \"Data\" + os.sep + \"train.csv\"\n",
    "test_input_path = \"Data\" + os.sep + \"test.csv\"\n",
    "test_output_path = \"Data\" + os.sep + \"gender_submission.csv\""
   ]
  },
  {
   "cell_type": "markdown",
   "id": "8fc1e570",
   "metadata": {},
   "source": [
    "Reading train and test files"
   ]
  },
  {
   "cell_type": "code",
   "execution_count": 3,
   "id": "c96312e2",
   "metadata": {},
   "outputs": [],
   "source": [
    "train_dataset = pd.read_csv(train_path)\n",
    "test_input_dataset = pd.read_csv(test_input_path)\n",
    "test_output_path = pd.read_csv(test_output_path)"
   ]
  },
  {
   "cell_type": "markdown",
   "id": "3ae68841",
   "metadata": {},
   "source": [
    "Let's understand the data"
   ]
  },
  {
   "cell_type": "code",
   "execution_count": 4,
   "id": "bb926ebc",
   "metadata": {
    "scrolled": true
   },
   "outputs": [
    {
     "data": {
      "text/html": [
       "<div>\n",
       "<style scoped>\n",
       "    .dataframe tbody tr th:only-of-type {\n",
       "        vertical-align: middle;\n",
       "    }\n",
       "\n",
       "    .dataframe tbody tr th {\n",
       "        vertical-align: top;\n",
       "    }\n",
       "\n",
       "    .dataframe thead th {\n",
       "        text-align: right;\n",
       "    }\n",
       "</style>\n",
       "<table border=\"1\" class=\"dataframe\">\n",
       "  <thead>\n",
       "    <tr style=\"text-align: right;\">\n",
       "      <th></th>\n",
       "      <th>PassengerId</th>\n",
       "      <th>Survived</th>\n",
       "      <th>Pclass</th>\n",
       "      <th>Name</th>\n",
       "      <th>Sex</th>\n",
       "      <th>Age</th>\n",
       "      <th>SibSp</th>\n",
       "      <th>Parch</th>\n",
       "      <th>Ticket</th>\n",
       "      <th>Fare</th>\n",
       "      <th>Cabin</th>\n",
       "      <th>Embarked</th>\n",
       "    </tr>\n",
       "  </thead>\n",
       "  <tbody>\n",
       "    <tr>\n",
       "      <th>0</th>\n",
       "      <td>1</td>\n",
       "      <td>0</td>\n",
       "      <td>3</td>\n",
       "      <td>Braund, Mr. Owen Harris</td>\n",
       "      <td>male</td>\n",
       "      <td>22.0</td>\n",
       "      <td>1</td>\n",
       "      <td>0</td>\n",
       "      <td>A/5 21171</td>\n",
       "      <td>7.2500</td>\n",
       "      <td>NaN</td>\n",
       "      <td>S</td>\n",
       "    </tr>\n",
       "    <tr>\n",
       "      <th>1</th>\n",
       "      <td>2</td>\n",
       "      <td>1</td>\n",
       "      <td>1</td>\n",
       "      <td>Cumings, Mrs. John Bradley (Florence Briggs Th...</td>\n",
       "      <td>female</td>\n",
       "      <td>38.0</td>\n",
       "      <td>1</td>\n",
       "      <td>0</td>\n",
       "      <td>PC 17599</td>\n",
       "      <td>71.2833</td>\n",
       "      <td>C85</td>\n",
       "      <td>C</td>\n",
       "    </tr>\n",
       "    <tr>\n",
       "      <th>2</th>\n",
       "      <td>3</td>\n",
       "      <td>1</td>\n",
       "      <td>3</td>\n",
       "      <td>Heikkinen, Miss. Laina</td>\n",
       "      <td>female</td>\n",
       "      <td>26.0</td>\n",
       "      <td>0</td>\n",
       "      <td>0</td>\n",
       "      <td>STON/O2. 3101282</td>\n",
       "      <td>7.9250</td>\n",
       "      <td>NaN</td>\n",
       "      <td>S</td>\n",
       "    </tr>\n",
       "    <tr>\n",
       "      <th>3</th>\n",
       "      <td>4</td>\n",
       "      <td>1</td>\n",
       "      <td>1</td>\n",
       "      <td>Futrelle, Mrs. Jacques Heath (Lily May Peel)</td>\n",
       "      <td>female</td>\n",
       "      <td>35.0</td>\n",
       "      <td>1</td>\n",
       "      <td>0</td>\n",
       "      <td>113803</td>\n",
       "      <td>53.1000</td>\n",
       "      <td>C123</td>\n",
       "      <td>S</td>\n",
       "    </tr>\n",
       "    <tr>\n",
       "      <th>4</th>\n",
       "      <td>5</td>\n",
       "      <td>0</td>\n",
       "      <td>3</td>\n",
       "      <td>Allen, Mr. William Henry</td>\n",
       "      <td>male</td>\n",
       "      <td>35.0</td>\n",
       "      <td>0</td>\n",
       "      <td>0</td>\n",
       "      <td>373450</td>\n",
       "      <td>8.0500</td>\n",
       "      <td>NaN</td>\n",
       "      <td>S</td>\n",
       "    </tr>\n",
       "  </tbody>\n",
       "</table>\n",
       "</div>"
      ],
      "text/plain": [
       "   PassengerId  Survived  Pclass  \\\n",
       "0            1         0       3   \n",
       "1            2         1       1   \n",
       "2            3         1       3   \n",
       "3            4         1       1   \n",
       "4            5         0       3   \n",
       "\n",
       "                                                Name     Sex   Age  SibSp  \\\n",
       "0                            Braund, Mr. Owen Harris    male  22.0      1   \n",
       "1  Cumings, Mrs. John Bradley (Florence Briggs Th...  female  38.0      1   \n",
       "2                             Heikkinen, Miss. Laina  female  26.0      0   \n",
       "3       Futrelle, Mrs. Jacques Heath (Lily May Peel)  female  35.0      1   \n",
       "4                           Allen, Mr. William Henry    male  35.0      0   \n",
       "\n",
       "   Parch            Ticket     Fare Cabin Embarked  \n",
       "0      0         A/5 21171   7.2500   NaN        S  \n",
       "1      0          PC 17599  71.2833   C85        C  \n",
       "2      0  STON/O2. 3101282   7.9250   NaN        S  \n",
       "3      0            113803  53.1000  C123        S  \n",
       "4      0            373450   8.0500   NaN        S  "
      ]
     },
     "execution_count": 4,
     "metadata": {},
     "output_type": "execute_result"
    }
   ],
   "source": [
    "train_dataset.head()"
   ]
  },
  {
   "cell_type": "markdown",
   "id": "e2a8e6d1",
   "metadata": {},
   "source": [
    "Before countinue lets seperate our survived from training set"
   ]
  },
  {
   "cell_type": "code",
   "execution_count": 5,
   "id": "d903b5b7",
   "metadata": {},
   "outputs": [],
   "source": [
    "train_target = train_dataset[[\"Survived\"]]\n",
    "train_dataset.drop(\"Survived\", axis=1, inplace=True)"
   ]
  },
  {
   "cell_type": "code",
   "execution_count": 6,
   "id": "13ae3407",
   "metadata": {
    "scrolled": true
   },
   "outputs": [
    {
     "name": "stdout",
     "output_type": "stream",
     "text": [
      "<class 'pandas.core.frame.DataFrame'>\n",
      "RangeIndex: 891 entries, 0 to 890\n",
      "Data columns (total 11 columns):\n",
      " #   Column       Non-Null Count  Dtype  \n",
      "---  ------       --------------  -----  \n",
      " 0   PassengerId  891 non-null    int64  \n",
      " 1   Pclass       891 non-null    int64  \n",
      " 2   Name         891 non-null    object \n",
      " 3   Sex          891 non-null    object \n",
      " 4   Age          714 non-null    float64\n",
      " 5   SibSp        891 non-null    int64  \n",
      " 6   Parch        891 non-null    int64  \n",
      " 7   Ticket       891 non-null    object \n",
      " 8   Fare         891 non-null    float64\n",
      " 9   Cabin        204 non-null    object \n",
      " 10  Embarked     889 non-null    object \n",
      "dtypes: float64(2), int64(4), object(5)\n",
      "memory usage: 76.7+ KB\n"
     ]
    }
   ],
   "source": [
    "train_dataset.info()"
   ]
  },
  {
   "cell_type": "markdown",
   "id": "0eb7f52e",
   "metadata": {},
   "source": [
    "First i want to deal with null inputs lets see if there is any"
   ]
  },
  {
   "cell_type": "code",
   "execution_count": 7,
   "id": "62fb2165",
   "metadata": {
    "scrolled": true
   },
   "outputs": [
    {
     "data": {
      "text/plain": [
       "PassengerId      0\n",
       "Pclass           0\n",
       "Name             0\n",
       "Sex              0\n",
       "Age            177\n",
       "SibSp            0\n",
       "Parch            0\n",
       "Ticket           0\n",
       "Fare             0\n",
       "Cabin          687\n",
       "Embarked         2\n",
       "dtype: int64"
      ]
     },
     "execution_count": 7,
     "metadata": {},
     "output_type": "execute_result"
    }
   ],
   "source": [
    "train_dataset.isnull().sum()"
   ]
  },
  {
   "cell_type": "markdown",
   "id": "4b35e414",
   "metadata": {},
   "source": [
    "Wow ok.. There is 889 input data and Cabin has 687 null data i think it is best to discard this feature"
   ]
  },
  {
   "cell_type": "code",
   "execution_count": 8,
   "id": "5fb4d755",
   "metadata": {},
   "outputs": [],
   "source": [
    "train_dataset.drop(\"Cabin\",axis=1 ,inplace = True)   # axis=1 because in default this method drops rows not columns"
   ]
  },
  {
   "cell_type": "markdown",
   "id": "3e0890ed",
   "metadata": {},
   "source": [
    "Ok now lets focus on Age feature lets examine this feature"
   ]
  },
  {
   "cell_type": "code",
   "execution_count": 9,
   "id": "5909061a",
   "metadata": {
    "scrolled": false
   },
   "outputs": [
    {
     "data": {
      "text/plain": [
       "<Axes: ylabel='Frequency'>"
      ]
     },
     "execution_count": 9,
     "metadata": {},
     "output_type": "execute_result"
    },
    {
     "data": {
      "image/png": "[encoded data removed]",
      "text/plain": [
       "<Figure size 640x480 with 1 Axes>"
      ]
     },
     "metadata": {},
     "output_type": "display_data"
    }
   ],
   "source": [
    "train_dataset[\"Age\"].plot(kind=\"hist\")"
   ]
  },
  {
   "cell_type": "markdown",
   "id": "71981bf2",
   "metadata": {},
   "source": [
    "I think it is best to fill with mean value"
   ]
  },
  {
   "cell_type": "code",
   "execution_count": 10,
   "id": "d679b9ef",
   "metadata": {},
   "outputs": [],
   "source": [
    "imputer_age = SimpleImputer(strategy='mean')\n",
    "train_dataset[\"Age\"] = imputer_age.fit_transform(train_dataset[[\"Age\"]])"
   ]
  },
  {
   "cell_type": "markdown",
   "id": "b056c1cd",
   "metadata": {},
   "source": [
    "Lastly we need to check our Embarked fature lets examine that columns"
   ]
  },
  {
   "cell_type": "code",
   "execution_count": 11,
   "id": "8dc6ea6f",
   "metadata": {
    "scrolled": false
   },
   "outputs": [
    {
     "data": {
      "text/plain": [
       "S    644\n",
       "C    168\n",
       "Q     77\n",
       "Name: Embarked, dtype: int64"
      ]
     },
     "execution_count": 11,
     "metadata": {},
     "output_type": "execute_result"
    }
   ],
   "source": [
    "train_dataset[\"Embarked\"].value_counts()"
   ]
  },
  {
   "cell_type": "markdown",
   "id": "331e8abb",
   "metadata": {},
   "source": [
    "I am going to fill na values with most seen one S "
   ]
  },
  {
   "cell_type": "code",
   "execution_count": 12,
   "id": "35f6e892",
   "metadata": {},
   "outputs": [],
   "source": [
    "imputer_embarked = SimpleImputer(strategy='most_frequent')\n",
    "train_dataset[\"Embarked\"] = imputer_embarked.fit_transform(train_dataset[[\"Embarked\"]])"
   ]
  },
  {
   "cell_type": "markdown",
   "id": "ed365ec8",
   "metadata": {},
   "source": [
    "Lets do final check for nulls "
   ]
  },
  {
   "cell_type": "code",
   "execution_count": 13,
   "id": "932c5d4b",
   "metadata": {},
   "outputs": [
    {
     "data": {
      "text/plain": [
       "PassengerId    0\n",
       "Pclass         0\n",
       "Name           0\n",
       "Sex            0\n",
       "Age            0\n",
       "SibSp          0\n",
       "Parch          0\n",
       "Ticket         0\n",
       "Fare           0\n",
       "Embarked       0\n",
       "dtype: int64"
      ]
     },
     "execution_count": 13,
     "metadata": {},
     "output_type": "execute_result"
    }
   ],
   "source": [
    "train_dataset.isnull().sum()"
   ]
  },
  {
   "cell_type": "markdown",
   "id": "39c3293f",
   "metadata": {},
   "source": [
    "Ok now lets see what is our columns data types"
   ]
  },
  {
   "cell_type": "code",
   "execution_count": 14,
   "id": "2d8a5c4a",
   "metadata": {},
   "outputs": [
    {
     "name": "stdout",
     "output_type": "stream",
     "text": [
      "<class 'pandas.core.frame.DataFrame'>\n",
      "RangeIndex: 891 entries, 0 to 890\n",
      "Data columns (total 10 columns):\n",
      " #   Column       Non-Null Count  Dtype  \n",
      "---  ------       --------------  -----  \n",
      " 0   PassengerId  891 non-null    int64  \n",
      " 1   Pclass       891 non-null    int64  \n",
      " 2   Name         891 non-null    object \n",
      " 3   Sex          891 non-null    object \n",
      " 4   Age          891 non-null    float64\n",
      " 5   SibSp        891 non-null    int64  \n",
      " 6   Parch        891 non-null    int64  \n",
      " 7   Ticket       891 non-null    object \n",
      " 8   Fare         891 non-null    float64\n",
      " 9   Embarked     891 non-null    object \n",
      "dtypes: float64(2), int64(4), object(4)\n",
      "memory usage: 69.7+ KB\n"
     ]
    }
   ],
   "source": [
    "train_dataset.info()"
   ]
  },
  {
   "cell_type": "markdown",
   "id": "175bee16",
   "metadata": {},
   "source": [
    "First lets look at Sex object"
   ]
  },
  {
   "cell_type": "code",
   "execution_count": 15,
   "id": "44a09570",
   "metadata": {},
   "outputs": [
    {
     "data": {
      "text/plain": [
       "male      577\n",
       "female    314\n",
       "Name: Sex, dtype: int64"
      ]
     },
     "execution_count": 15,
     "metadata": {},
     "output_type": "execute_result"
    }
   ],
   "source": [
    "train_dataset[\"Sex\"].value_counts()"
   ]
  },
  {
   "cell_type": "markdown",
   "id": "99b8b7d6",
   "metadata": {},
   "source": [
    "Ok interesting we only got two. lets one hot encode it"
   ]
  },
  {
   "cell_type": "markdown",
   "id": "6a43cbe5",
   "metadata": {},
   "source": [
    "Now lets look at Embarked feature again for encoding it"
   ]
  },
  {
   "cell_type": "code",
   "execution_count": 16,
   "id": "97689f45",
   "metadata": {},
   "outputs": [
    {
     "data": {
      "text/plain": [
       "array(['S', 'C', 'Q'], dtype=object)"
      ]
     },
     "execution_count": 16,
     "metadata": {},
     "output_type": "execute_result"
    }
   ],
   "source": [
    "train_dataset[\"Embarked\"].unique()"
   ]
  },
  {
   "cell_type": "markdown",
   "id": "d3b3c760",
   "metadata": {},
   "source": [
    "Lets encode them all"
   ]
  },
  {
   "cell_type": "code",
   "execution_count": 17,
   "id": "485e26e1",
   "metadata": {
    "scrolled": false
   },
   "outputs": [],
   "source": [
    "one_hot_encoder_sex_embarked = OneHotEncoder(handle_unknown=\"error\")\n",
    "encoded_sex_embarked_array = one_hot_encoder_sex_embarked.fit_transform(train_dataset[[\"Sex\",\"Embarked\"]]).toarray().astype('int32')  # It returns float64 i want int32\n",
    "train_dataset.drop([\"Sex\",\"Embarked\"], axis=1, inplace=True)\n",
    "sex_embarked_dataframe = pd.DataFrame(encoded_sex_embarked_array, columns=one_hot_encoder_sex_embarked.get_feature_names_out())\n",
    "train_dataset = pd.concat([train_dataset, sex_embarked_dataframe], axis=1)"
   ]
  },
  {
   "cell_type": "markdown",
   "id": "f5ae718e",
   "metadata": {},
   "source": [
    "Let's check it"
   ]
  },
  {
   "cell_type": "code",
   "execution_count": 18,
   "id": "c7b89f8f",
   "metadata": {},
   "outputs": [
    {
     "name": "stdout",
     "output_type": "stream",
     "text": [
      "<class 'pandas.core.frame.DataFrame'>\n",
      "RangeIndex: 891 entries, 0 to 890\n",
      "Data columns (total 13 columns):\n",
      " #   Column       Non-Null Count  Dtype  \n",
      "---  ------       --------------  -----  \n",
      " 0   PassengerId  891 non-null    int64  \n",
      " 1   Pclass       891 non-null    int64  \n",
      " 2   Name         891 non-null    object \n",
      " 3   Age          891 non-null    float64\n",
      " 4   SibSp        891 non-null    int64  \n",
      " 5   Parch        891 non-null    int64  \n",
      " 6   Ticket       891 non-null    object \n",
      " 7   Fare         891 non-null    float64\n",
      " 8   Sex_female   891 non-null    int32  \n",
      " 9   Sex_male     891 non-null    int32  \n",
      " 10  Embarked_C   891 non-null    int32  \n",
      " 11  Embarked_Q   891 non-null    int32  \n",
      " 12  Embarked_S   891 non-null    int32  \n",
      "dtypes: float64(2), int32(5), int64(4), object(2)\n",
      "memory usage: 73.2+ KB\n"
     ]
    }
   ],
   "source": [
    "train_dataset.info()"
   ]
  },
  {
   "cell_type": "code",
   "execution_count": 19,
   "id": "e5734804",
   "metadata": {},
   "outputs": [
    {
     "data": {
      "text/html": [
       "<div>\n",
       "<style scoped>\n",
       "    .dataframe tbody tr th:only-of-type {\n",
       "        vertical-align: middle;\n",
       "    }\n",
       "\n",
       "    .dataframe tbody tr th {\n",
       "        vertical-align: top;\n",
       "    }\n",
       "\n",
       "    .dataframe thead th {\n",
       "        text-align: right;\n",
       "    }\n",
       "</style>\n",
       "<table border=\"1\" class=\"dataframe\">\n",
       "  <thead>\n",
       "    <tr style=\"text-align: right;\">\n",
       "      <th></th>\n",
       "      <th>Name</th>\n",
       "      <th>Ticket</th>\n",
       "    </tr>\n",
       "  </thead>\n",
       "  <tbody>\n",
       "    <tr>\n",
       "      <th>0</th>\n",
       "      <td>Braund, Mr. Owen Harris</td>\n",
       "      <td>A/5 21171</td>\n",
       "    </tr>\n",
       "    <tr>\n",
       "      <th>1</th>\n",
       "      <td>Cumings, Mrs. John Bradley (Florence Briggs Th...</td>\n",
       "      <td>PC 17599</td>\n",
       "    </tr>\n",
       "    <tr>\n",
       "      <th>2</th>\n",
       "      <td>Heikkinen, Miss. Laina</td>\n",
       "      <td>STON/O2. 3101282</td>\n",
       "    </tr>\n",
       "    <tr>\n",
       "      <th>3</th>\n",
       "      <td>Futrelle, Mrs. Jacques Heath (Lily May Peel)</td>\n",
       "      <td>113803</td>\n",
       "    </tr>\n",
       "    <tr>\n",
       "      <th>4</th>\n",
       "      <td>Allen, Mr. William Henry</td>\n",
       "      <td>373450</td>\n",
       "    </tr>\n",
       "    <tr>\n",
       "      <th>...</th>\n",
       "      <td>...</td>\n",
       "      <td>...</td>\n",
       "    </tr>\n",
       "    <tr>\n",
       "      <th>886</th>\n",
       "      <td>Montvila, Rev. Juozas</td>\n",
       "      <td>211536</td>\n",
       "    </tr>\n",
       "    <tr>\n",
       "      <th>887</th>\n",
       "      <td>Graham, Miss. Margaret Edith</td>\n",
       "      <td>112053</td>\n",
       "    </tr>\n",
       "    <tr>\n",
       "      <th>888</th>\n",
       "      <td>Johnston, Miss. Catherine Helen \"Carrie\"</td>\n",
       "      <td>W./C. 6607</td>\n",
       "    </tr>\n",
       "    <tr>\n",
       "      <th>889</th>\n",
       "      <td>Behr, Mr. Karl Howell</td>\n",
       "      <td>111369</td>\n",
       "    </tr>\n",
       "    <tr>\n",
       "      <th>890</th>\n",
       "      <td>Dooley, Mr. Patrick</td>\n",
       "      <td>370376</td>\n",
       "    </tr>\n",
       "  </tbody>\n",
       "</table>\n",
       "<p>891 rows × 2 columns</p>\n",
       "</div>"
      ],
      "text/plain": [
       "                                                  Name            Ticket\n",
       "0                              Braund, Mr. Owen Harris         A/5 21171\n",
       "1    Cumings, Mrs. John Bradley (Florence Briggs Th...          PC 17599\n",
       "2                               Heikkinen, Miss. Laina  STON/O2. 3101282\n",
       "3         Futrelle, Mrs. Jacques Heath (Lily May Peel)            113803\n",
       "4                             Allen, Mr. William Henry            373450\n",
       "..                                                 ...               ...\n",
       "886                              Montvila, Rev. Juozas            211536\n",
       "887                       Graham, Miss. Margaret Edith            112053\n",
       "888           Johnston, Miss. Catherine Helen \"Carrie\"        W./C. 6607\n",
       "889                              Behr, Mr. Karl Howell            111369\n",
       "890                                Dooley, Mr. Patrick            370376\n",
       "\n",
       "[891 rows x 2 columns]"
      ]
     },
     "execution_count": 19,
     "metadata": {},
     "output_type": "execute_result"
    }
   ],
   "source": [
    "train_dataset[[\"Name\",\"Ticket\"]]"
   ]
  },
  {
   "cell_type": "code",
   "execution_count": 20,
   "id": "cf7ddde5",
   "metadata": {
    "scrolled": true
   },
   "outputs": [
    {
     "data": {
      "text/plain": [
       "Braund, Mr. Owen Harris                     1\n",
       "Boulos, Mr. Hanna                           1\n",
       "Frolicher-Stehli, Mr. Maxmillian            1\n",
       "Gilinski, Mr. Eliezer                       1\n",
       "Murdlin, Mr. Joseph                         1\n",
       "                                           ..\n",
       "Kelly, Miss. Anna Katherine \"Annie Kate\"    1\n",
       "McCoy, Mr. Bernard                          1\n",
       "Johnson, Mr. William Cahoone Jr             1\n",
       "Keane, Miss. Nora A                         1\n",
       "Dooley, Mr. Patrick                         1\n",
       "Name: Name, Length: 891, dtype: int64"
      ]
     },
     "execution_count": 20,
     "metadata": {},
     "output_type": "execute_result"
    }
   ],
   "source": [
    "train_dataset[\"Name\"].value_counts()"
   ]
  },
  {
   "cell_type": "code",
   "execution_count": 21,
   "id": "9e12b0bc",
   "metadata": {},
   "outputs": [
    {
     "data": {
      "text/plain": [
       "347082      7\n",
       "CA. 2343    7\n",
       "1601        7\n",
       "3101295     6\n",
       "CA 2144     6\n",
       "           ..\n",
       "9234        1\n",
       "19988       1\n",
       "2693        1\n",
       "PC 17612    1\n",
       "370376      1\n",
       "Name: Ticket, Length: 681, dtype: int64"
      ]
     },
     "execution_count": 21,
     "metadata": {},
     "output_type": "execute_result"
    }
   ],
   "source": [
    "train_dataset[\"Ticket\"].value_counts()"
   ]
  },
  {
   "cell_type": "markdown",
   "id": "855e17b5",
   "metadata": {},
   "source": [
    "I can not think any transformation for ticket and name and for now i am going to drop them"
   ]
  },
  {
   "cell_type": "code",
   "execution_count": 22,
   "id": "e4dab94e",
   "metadata": {},
   "outputs": [],
   "source": [
    "train_dataset_name_ticket = train_dataset[[\"Name\", \"Ticket\"]].copy()\n",
    "train_dataset.drop([\"Name\", \"Ticket\"], axis=1, inplace=True)   # axis=1 because in default this method drops rows not columns"
   ]
  },
  {
   "cell_type": "code",
   "execution_count": 23,
   "id": "0c45d675",
   "metadata": {},
   "outputs": [
    {
     "name": "stdout",
     "output_type": "stream",
     "text": [
      "<class 'pandas.core.frame.DataFrame'>\n",
      "RangeIndex: 891 entries, 0 to 890\n",
      "Data columns (total 11 columns):\n",
      " #   Column       Non-Null Count  Dtype  \n",
      "---  ------       --------------  -----  \n",
      " 0   PassengerId  891 non-null    int64  \n",
      " 1   Pclass       891 non-null    int64  \n",
      " 2   Age          891 non-null    float64\n",
      " 3   SibSp        891 non-null    int64  \n",
      " 4   Parch        891 non-null    int64  \n",
      " 5   Fare         891 non-null    float64\n",
      " 6   Sex_female   891 non-null    int32  \n",
      " 7   Sex_male     891 non-null    int32  \n",
      " 8   Embarked_C   891 non-null    int32  \n",
      " 9   Embarked_Q   891 non-null    int32  \n",
      " 10  Embarked_S   891 non-null    int32  \n",
      "dtypes: float64(2), int32(5), int64(4)\n",
      "memory usage: 59.3 KB\n"
     ]
    }
   ],
   "source": [
    "train_dataset.info()"
   ]
  },
  {
   "cell_type": "markdown",
   "id": "a6e41d8d",
   "metadata": {},
   "source": [
    "Now everythink is numerical what we need to do feature scaling but beacuse of not every ML model required feature scaling we will take copy and move on "
   ]
  },
  {
   "cell_type": "code",
   "execution_count": 24,
   "id": "af22393f",
   "metadata": {},
   "outputs": [],
   "source": [
    "train_dataset_scaled = train_dataset.copy()"
   ]
  },
  {
   "cell_type": "markdown",
   "id": "7ad98aff",
   "metadata": {},
   "source": [
    "Let's see our features histogram bars we do not need to scale encoded features so i am going to draw histogram just for the rest"
   ]
  },
  {
   "cell_type": "code",
   "execution_count": 25,
   "id": "a0042733",
   "metadata": {},
   "outputs": [
    {
     "data": {
      "text/plain": [
       "array([[<Axes: title={'center': 'Parch'}>,\n",
       "        <Axes: title={'center': 'Age'}>],\n",
       "       [<Axes: title={'center': 'SibSp'}>,\n",
       "        <Axes: title={'center': 'Fare'}>],\n",
       "       [<Axes: title={'center': 'PassengerId'}>,\n",
       "        <Axes: title={'center': 'Pclass'}>]], dtype=object)"
      ]
     },
     "execution_count": 25,
     "metadata": {},
     "output_type": "execute_result"
    },
    {
     "data": {
      "image/png": "[encoded data removed]",
      "text/plain": [
       "<Figure size 1000x1000 with 6 Axes>"
      ]
     },
     "metadata": {},
     "output_type": "display_data"
    }
   ],
   "source": [
    "columns_to_scale = list(set(train_dataset_scaled.columns) - set(one_hot_encoder_sex_embarked.get_feature_names_out()))\n",
    "train_dataset_scaled[columns_to_scale].hist(figsize=(10, 10))"
   ]
  },
  {
   "cell_type": "markdown",
   "id": "0040c853",
   "metadata": {},
   "source": [
    "Lets do minmax scaling for PassengerId beacuse it is nicesquare shaped every Id has a equal probability\n",
    "\n",
    "I want this range for -1 to 1"
   ]
  },
  {
   "cell_type": "code",
   "execution_count": 26,
   "id": "edf02019",
   "metadata": {},
   "outputs": [
    {
     "data": {
      "text/plain": [
       "array([[<Axes: title={'center': 'PassengerId'}>]], dtype=object)"
      ]
     },
     "execution_count": 26,
     "metadata": {},
     "output_type": "execute_result"
    },
    {
     "data": {
      "image/png": "[encoded data removed]",
      "text/plain": [
       "<Figure size 1000x1000 with 1 Axes>"
      ]
     },
     "metadata": {},
     "output_type": "display_data"
    }
   ],
   "source": [
    "minmaxscaler_passengerid = MinMaxScaler(feature_range=(-1, 1))\n",
    "train_dataset_scaled[[\"PassengerId\"]] = minmaxscaler_passengerid.fit_transform(train_dataset_scaled[[\"PassengerId\"]])\n",
    "train_dataset_scaled[[\"PassengerId\"]].hist(figsize=(10, 10))"
   ]
  },
  {
   "cell_type": "markdown",
   "id": "e4735c84",
   "metadata": {},
   "source": [
    "For age lets do standart normalization"
   ]
  },
  {
   "cell_type": "code",
   "execution_count": 27,
   "id": "672bf031",
   "metadata": {},
   "outputs": [
    {
     "data": {
      "text/plain": [
       "array([[<Axes: title={'center': 'Age'}>]], dtype=object)"
      ]
     },
     "execution_count": 27,
     "metadata": {},
     "output_type": "execute_result"
    },
    {
     "data": {
      "image/png": "[encoded data removed]",
      "text/plain": [
       "<Figure size 1000x1000 with 1 Axes>"
      ]
     },
     "metadata": {},
     "output_type": "display_data"
    }
   ],
   "source": [
    "standardscaler_age = StandardScaler()\n",
    "train_dataset_scaled[[\"Age\"]] = standardscaler_age.fit_transform(train_dataset_scaled[[\"Age\"]])\n",
    "train_dataset_scaled[[\"Age\"]].hist(figsize=(10, 10))"
   ]
  },
  {
   "cell_type": "markdown",
   "id": "cb3d746e",
   "metadata": {},
   "source": [
    "Let's do scaling for our test data"
   ]
  },
  {
   "cell_type": "code",
   "execution_count": 28,
   "id": "250a70f3",
   "metadata": {},
   "outputs": [
    {
     "data": {
      "text/plain": [
       "PassengerId      0\n",
       "Pclass           0\n",
       "Name             0\n",
       "Sex              0\n",
       "Age             86\n",
       "SibSp            0\n",
       "Parch            0\n",
       "Ticket           0\n",
       "Fare             1\n",
       "Cabin          327\n",
       "Embarked         0\n",
       "dtype: int64"
      ]
     },
     "execution_count": 28,
     "metadata": {},
     "output_type": "execute_result"
    }
   ],
   "source": [
    "test_input_dataset.isnull().sum()"
   ]
  },
  {
   "cell_type": "markdown",
   "id": "a3bf1653",
   "metadata": {},
   "source": [
    "Lets fill the null values"
   ]
  },
  {
   "cell_type": "code",
   "execution_count": null,
   "id": "99677efc",
   "metadata": {},
   "outputs": [],
   "source": []
  }
 ],
 "metadata": {
  "kernelspec": {
   "display_name": "Python 3 (ipykernel)",
   "language": "python",
   "name": "python3"
  },
  "language_info": {
   "codemirror_mode": {
    "name": "ipython",
    "version": 3
   },
   "file_extension": ".py",
   "mimetype": "text/x-python",
   "name": "python",
   "nbconvert_exporter": "python",
   "pygments_lexer": "ipython3",
   "version": "3.10.9"
  }
 },
 "nbformat": 4,
 "nbformat_minor": 5
}
