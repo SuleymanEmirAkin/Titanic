{
 "cells": [
  {
   "cell_type": "markdown",
   "id": "3b76fc5a",
   "metadata": {},
   "source": [
    "# Titanic"
   ]
  },
  {
   "cell_type": "markdown",
   "id": "19ff9ba0",
   "metadata": {},
   "source": [
    "### TODO add a read me"
   ]
  },
  {
   "cell_type": "markdown",
   "id": "aad2c2b5",
   "metadata": {},
   "source": [
    "### 1. Preparing the data"
   ]
  },
  {
   "cell_type": "markdown",
   "id": "d54130ef",
   "metadata": {},
   "source": [
    "First import necessary modules"
   ]
  },
  {
   "cell_type": "code",
   "execution_count": 1,
   "id": "d9b147ad",
   "metadata": {},
   "outputs": [],
   "source": [
    "import os\n",
    "import pandas as pd\n",
    "import numpy as np\n",
    "from sklearn import tree\n",
    "from sklearn.impute import SimpleImputer\n",
    "from sklearn.preprocessing import OneHotEncoder, MinMaxScaler, StandardScaler\n",
    "from sklearn.preprocessing import FunctionTransformer"
   ]
  },
  {
   "cell_type": "markdown",
   "id": "67c1c785",
   "metadata": {},
   "source": [
    "Please modify these paths before running your code. <br> In defeault the csv files should be in under Data folder"
   ]
  },
  {
   "cell_type": "code",
   "execution_count": 2,
   "id": "203d313c",
   "metadata": {},
   "outputs": [],
   "source": [
    "train_path = \"Data\" + os.sep + \"train.csv\"\n",
    "test_input_path = \"Data\" + os.sep + \"test.csv\"\n",
    "test_output_path = \"Data\" + os.sep + \"gender_submission.csv\""
   ]
  },
  {
   "cell_type": "markdown",
   "id": "8fc1e570",
   "metadata": {},
   "source": [
    "Reading train and test files"
   ]
  },
  {
   "cell_type": "code",
   "execution_count": 3,
   "id": "c96312e2",
   "metadata": {},
   "outputs": [],
   "source": [
    "train_dataset = pd.read_csv(train_path)\n",
    "test_input_dataset = pd.read_csv(test_input_path)\n",
    "test_output_path = pd.read_csv(test_output_path)"
   ]
  },
  {
   "cell_type": "markdown",
   "id": "3ae68841",
   "metadata": {},
   "source": [
    "Let's understand the data"
   ]
  },
  {
   "cell_type": "code",
   "execution_count": 4,
   "id": "bb926ebc",
   "metadata": {
    "scrolled": true
   },
   "outputs": [
    {
     "data": {
      "text/html": [
       "<div>\n",
       "<style scoped>\n",
       "    .dataframe tbody tr th:only-of-type {\n",
       "        vertical-align: middle;\n",
       "    }\n",
       "\n",
       "    .dataframe tbody tr th {\n",
       "        vertical-align: top;\n",
       "    }\n",
       "\n",
       "    .dataframe thead th {\n",
       "        text-align: right;\n",
       "    }\n",
       "</style>\n",
       "<table border=\"1\" class=\"dataframe\">\n",
       "  <thead>\n",
       "    <tr style=\"text-align: right;\">\n",
       "      <th></th>\n",
       "      <th>PassengerId</th>\n",
       "      <th>Survived</th>\n",
       "      <th>Pclass</th>\n",
       "      <th>Name</th>\n",
       "      <th>Sex</th>\n",
       "      <th>Age</th>\n",
       "      <th>SibSp</th>\n",
       "      <th>Parch</th>\n",
       "      <th>Ticket</th>\n",
       "      <th>Fare</th>\n",
       "      <th>Cabin</th>\n",
       "      <th>Embarked</th>\n",
       "    </tr>\n",
       "  </thead>\n",
       "  <tbody>\n",
       "    <tr>\n",
       "      <th>0</th>\n",
       "      <td>1</td>\n",
       "      <td>0</td>\n",
       "      <td>3</td>\n",
       "      <td>Braund, Mr. Owen Harris</td>\n",
       "      <td>male</td>\n",
       "      <td>22.0</td>\n",
       "      <td>1</td>\n",
       "      <td>0</td>\n",
       "      <td>A/5 21171</td>\n",
       "      <td>7.2500</td>\n",
       "      <td>NaN</td>\n",
       "      <td>S</td>\n",
       "    </tr>\n",
       "    <tr>\n",
       "      <th>1</th>\n",
       "      <td>2</td>\n",
       "      <td>1</td>\n",
       "      <td>1</td>\n",
       "      <td>Cumings, Mrs. John Bradley (Florence Briggs Th...</td>\n",
       "      <td>female</td>\n",
       "      <td>38.0</td>\n",
       "      <td>1</td>\n",
       "      <td>0</td>\n",
       "      <td>PC 17599</td>\n",
       "      <td>71.2833</td>\n",
       "      <td>C85</td>\n",
       "      <td>C</td>\n",
       "    </tr>\n",
       "    <tr>\n",
       "      <th>2</th>\n",
       "      <td>3</td>\n",
       "      <td>1</td>\n",
       "      <td>3</td>\n",
       "      <td>Heikkinen, Miss. Laina</td>\n",
       "      <td>female</td>\n",
       "      <td>26.0</td>\n",
       "      <td>0</td>\n",
       "      <td>0</td>\n",
       "      <td>STON/O2. 3101282</td>\n",
       "      <td>7.9250</td>\n",
       "      <td>NaN</td>\n",
       "      <td>S</td>\n",
       "    </tr>\n",
       "    <tr>\n",
       "      <th>3</th>\n",
       "      <td>4</td>\n",
       "      <td>1</td>\n",
       "      <td>1</td>\n",
       "      <td>Futrelle, Mrs. Jacques Heath (Lily May Peel)</td>\n",
       "      <td>female</td>\n",
       "      <td>35.0</td>\n",
       "      <td>1</td>\n",
       "      <td>0</td>\n",
       "      <td>113803</td>\n",
       "      <td>53.1000</td>\n",
       "      <td>C123</td>\n",
       "      <td>S</td>\n",
       "    </tr>\n",
       "    <tr>\n",
       "      <th>4</th>\n",
       "      <td>5</td>\n",
       "      <td>0</td>\n",
       "      <td>3</td>\n",
       "      <td>Allen, Mr. William Henry</td>\n",
       "      <td>male</td>\n",
       "      <td>35.0</td>\n",
       "      <td>0</td>\n",
       "      <td>0</td>\n",
       "      <td>373450</td>\n",
       "      <td>8.0500</td>\n",
       "      <td>NaN</td>\n",
       "      <td>S</td>\n",
       "    </tr>\n",
       "  </tbody>\n",
       "</table>\n",
       "</div>"
      ],
      "text/plain": [
       "   PassengerId  Survived  Pclass  \\\n",
       "0            1         0       3   \n",
       "1            2         1       1   \n",
       "2            3         1       3   \n",
       "3            4         1       1   \n",
       "4            5         0       3   \n",
       "\n",
       "                                                Name     Sex   Age  SibSp  \\\n",
       "0                            Braund, Mr. Owen Harris    male  22.0      1   \n",
       "1  Cumings, Mrs. John Bradley (Florence Briggs Th...  female  38.0      1   \n",
       "2                             Heikkinen, Miss. Laina  female  26.0      0   \n",
       "3       Futrelle, Mrs. Jacques Heath (Lily May Peel)  female  35.0      1   \n",
       "4                           Allen, Mr. William Henry    male  35.0      0   \n",
       "\n",
       "   Parch            Ticket     Fare Cabin Embarked  \n",
       "0      0         A/5 21171   7.2500   NaN        S  \n",
       "1      0          PC 17599  71.2833   C85        C  \n",
       "2      0  STON/O2. 3101282   7.9250   NaN        S  \n",
       "3      0            113803  53.1000  C123        S  \n",
       "4      0            373450   8.0500   NaN        S  "
      ]
     },
     "execution_count": 4,
     "metadata": {},
     "output_type": "execute_result"
    }
   ],
   "source": [
    "train_dataset.head()"
   ]
  },
  {
   "cell_type": "markdown",
   "id": "e2a8e6d1",
   "metadata": {},
   "source": [
    "Before countinue lets seperate our survived from training set"
   ]
  },
  {
   "cell_type": "code",
   "execution_count": 5,
   "id": "d903b5b7",
   "metadata": {},
   "outputs": [],
   "source": [
    "train_target = train_dataset[[\"Survived\"]]\n",
    "train_dataset.drop(\"Survived\", axis=1, inplace=True)"
   ]
  },
  {
   "cell_type": "code",
   "execution_count": 6,
   "id": "13ae3407",
   "metadata": {
    "scrolled": true
   },
   "outputs": [
    {
     "name": "stdout",
     "output_type": "stream",
     "text": [
      "<class 'pandas.core.frame.DataFrame'>\n",
      "RangeIndex: 891 entries, 0 to 890\n",
      "Data columns (total 11 columns):\n",
      " #   Column       Non-Null Count  Dtype  \n",
      "---  ------       --------------  -----  \n",
      " 0   PassengerId  891 non-null    int64  \n",
      " 1   Pclass       891 non-null    int64  \n",
      " 2   Name         891 non-null    object \n",
      " 3   Sex          891 non-null    object \n",
      " 4   Age          714 non-null    float64\n",
      " 5   SibSp        891 non-null    int64  \n",
      " 6   Parch        891 non-null    int64  \n",
      " 7   Ticket       891 non-null    object \n",
      " 8   Fare         891 non-null    float64\n",
      " 9   Cabin        204 non-null    object \n",
      " 10  Embarked     889 non-null    object \n",
      "dtypes: float64(2), int64(4), object(5)\n",
      "memory usage: 76.7+ KB\n"
     ]
    }
   ],
   "source": [
    "train_dataset.info()"
   ]
  },
  {
   "cell_type": "markdown",
   "id": "0eb7f52e",
   "metadata": {},
   "source": [
    "First i want to deal with null inputs lets see if there is any"
   ]
  },
  {
   "cell_type": "code",
   "execution_count": 7,
   "id": "62fb2165",
   "metadata": {
    "scrolled": false
   },
   "outputs": [
    {
     "data": {
      "text/plain": [
       "PassengerId      0\n",
       "Pclass           0\n",
       "Name             0\n",
       "Sex              0\n",
       "Age            177\n",
       "SibSp            0\n",
       "Parch            0\n",
       "Ticket           0\n",
       "Fare             0\n",
       "Cabin          687\n",
       "Embarked         2\n",
       "dtype: int64"
      ]
     },
     "execution_count": 7,
     "metadata": {},
     "output_type": "execute_result"
    }
   ],
   "source": [
    "train_dataset.isnull().sum()"
   ]
  },
  {
   "cell_type": "markdown",
   "id": "4b35e414",
   "metadata": {},
   "source": [
    "Wow ok.. There is 889 input data and Cabin has 687 null data i think it is best to discard this feature"
   ]
  },
  {
   "cell_type": "code",
   "execution_count": 8,
   "id": "5fb4d755",
   "metadata": {},
   "outputs": [],
   "source": [
    "unnecessary_features = [\"Cabin\"]"
   ]
  },
  {
   "cell_type": "code",
   "execution_count": 9,
   "id": "e5734804",
   "metadata": {
    "scrolled": false
   },
   "outputs": [
    {
     "data": {
      "text/html": [
       "<div>\n",
       "<style scoped>\n",
       "    .dataframe tbody tr th:only-of-type {\n",
       "        vertical-align: middle;\n",
       "    }\n",
       "\n",
       "    .dataframe tbody tr th {\n",
       "        vertical-align: top;\n",
       "    }\n",
       "\n",
       "    .dataframe thead th {\n",
       "        text-align: right;\n",
       "    }\n",
       "</style>\n",
       "<table border=\"1\" class=\"dataframe\">\n",
       "  <thead>\n",
       "    <tr style=\"text-align: right;\">\n",
       "      <th></th>\n",
       "      <th>Name</th>\n",
       "      <th>Ticket</th>\n",
       "    </tr>\n",
       "  </thead>\n",
       "  <tbody>\n",
       "    <tr>\n",
       "      <th>0</th>\n",
       "      <td>Braund, Mr. Owen Harris</td>\n",
       "      <td>A/5 21171</td>\n",
       "    </tr>\n",
       "    <tr>\n",
       "      <th>1</th>\n",
       "      <td>Cumings, Mrs. John Bradley (Florence Briggs Th...</td>\n",
       "      <td>PC 17599</td>\n",
       "    </tr>\n",
       "    <tr>\n",
       "      <th>2</th>\n",
       "      <td>Heikkinen, Miss. Laina</td>\n",
       "      <td>STON/O2. 3101282</td>\n",
       "    </tr>\n",
       "    <tr>\n",
       "      <th>3</th>\n",
       "      <td>Futrelle, Mrs. Jacques Heath (Lily May Peel)</td>\n",
       "      <td>113803</td>\n",
       "    </tr>\n",
       "    <tr>\n",
       "      <th>4</th>\n",
       "      <td>Allen, Mr. William Henry</td>\n",
       "      <td>373450</td>\n",
       "    </tr>\n",
       "    <tr>\n",
       "      <th>...</th>\n",
       "      <td>...</td>\n",
       "      <td>...</td>\n",
       "    </tr>\n",
       "    <tr>\n",
       "      <th>886</th>\n",
       "      <td>Montvila, Rev. Juozas</td>\n",
       "      <td>211536</td>\n",
       "    </tr>\n",
       "    <tr>\n",
       "      <th>887</th>\n",
       "      <td>Graham, Miss. Margaret Edith</td>\n",
       "      <td>112053</td>\n",
       "    </tr>\n",
       "    <tr>\n",
       "      <th>888</th>\n",
       "      <td>Johnston, Miss. Catherine Helen \"Carrie\"</td>\n",
       "      <td>W./C. 6607</td>\n",
       "    </tr>\n",
       "    <tr>\n",
       "      <th>889</th>\n",
       "      <td>Behr, Mr. Karl Howell</td>\n",
       "      <td>111369</td>\n",
       "    </tr>\n",
       "    <tr>\n",
       "      <th>890</th>\n",
       "      <td>Dooley, Mr. Patrick</td>\n",
       "      <td>370376</td>\n",
       "    </tr>\n",
       "  </tbody>\n",
       "</table>\n",
       "<p>891 rows × 2 columns</p>\n",
       "</div>"
      ],
      "text/plain": [
       "                                                  Name            Ticket\n",
       "0                              Braund, Mr. Owen Harris         A/5 21171\n",
       "1    Cumings, Mrs. John Bradley (Florence Briggs Th...          PC 17599\n",
       "2                               Heikkinen, Miss. Laina  STON/O2. 3101282\n",
       "3         Futrelle, Mrs. Jacques Heath (Lily May Peel)            113803\n",
       "4                             Allen, Mr. William Henry            373450\n",
       "..                                                 ...               ...\n",
       "886                              Montvila, Rev. Juozas            211536\n",
       "887                       Graham, Miss. Margaret Edith            112053\n",
       "888           Johnston, Miss. Catherine Helen \"Carrie\"        W./C. 6607\n",
       "889                              Behr, Mr. Karl Howell            111369\n",
       "890                                Dooley, Mr. Patrick            370376\n",
       "\n",
       "[891 rows x 2 columns]"
      ]
     },
     "execution_count": 9,
     "metadata": {},
     "output_type": "execute_result"
    }
   ],
   "source": [
    "train_dataset[[\"Name\",\"Ticket\"]]"
   ]
  },
  {
   "cell_type": "code",
   "execution_count": 10,
   "id": "d5f1e9c3",
   "metadata": {},
   "outputs": [
    {
     "data": {
      "text/plain": [
       "347082      7\n",
       "CA. 2343    7\n",
       "1601        7\n",
       "3101295     6\n",
       "CA 2144     6\n",
       "           ..\n",
       "9234        1\n",
       "19988       1\n",
       "2693        1\n",
       "PC 17612    1\n",
       "370376      1\n",
       "Name: Ticket, Length: 681, dtype: int64"
      ]
     },
     "execution_count": 10,
     "metadata": {},
     "output_type": "execute_result"
    }
   ],
   "source": [
    "train_dataset[\"Ticket\"].value_counts()"
   ]
  },
  {
   "cell_type": "code",
   "execution_count": 11,
   "id": "70fe238e",
   "metadata": {},
   "outputs": [
    {
     "data": {
      "text/plain": [
       "male      577\n",
       "female    314\n",
       "Name: Sex, dtype: int64"
      ]
     },
     "execution_count": 11,
     "metadata": {},
     "output_type": "execute_result"
    }
   ],
   "source": [
    "train_dataset[\"Sex\"].value_counts()"
   ]
  },
  {
   "cell_type": "markdown",
   "id": "855e17b5",
   "metadata": {},
   "source": [
    "I can not think any transformation for ticket and name and for now i am going to drop them"
   ]
  },
  {
   "cell_type": "code",
   "execution_count": 12,
   "id": "65d4bc12",
   "metadata": {},
   "outputs": [],
   "source": [
    "unnecessary_features.append(\"Name\")\n",
    "unnecessary_features.append(\"Ticket\")"
   ]
  },
  {
   "cell_type": "code",
   "execution_count": 13,
   "id": "cf3cd86f",
   "metadata": {},
   "outputs": [],
   "source": [
    "def drop_features(dataframe, features):\n",
    "    dataframe.drop(features, axis=1, inplace=True, errors=\"ignore\")"
   ]
  },
  {
   "cell_type": "code",
   "execution_count": 14,
   "id": "78cb197d",
   "metadata": {},
   "outputs": [],
   "source": [
    "drop_features(train_dataset, unnecessary_features)"
   ]
  },
  {
   "cell_type": "markdown",
   "id": "3e0890ed",
   "metadata": {},
   "source": [
    "Ok now lets focus on Age feature lets examine this feature"
   ]
  },
  {
   "cell_type": "code",
   "execution_count": 15,
   "id": "5909061a",
   "metadata": {
    "scrolled": false
   },
   "outputs": [
    {
     "data": {
      "text/plain": [
       "<Axes: ylabel='Frequency'>"
      ]
     },
     "execution_count": 15,
     "metadata": {},
     "output_type": "execute_result"
    },
    {
     "data": {
      "image/png": "[encoded data removed]",
      "text/plain": [
       "<Figure size 640x480 with 1 Axes>"
      ]
     },
     "metadata": {},
     "output_type": "display_data"
    }
   ],
   "source": [
    "train_dataset[\"Age\"].plot(kind=\"hist\")"
   ]
  },
  {
   "cell_type": "markdown",
   "id": "71981bf2",
   "metadata": {},
   "source": [
    "I think it is best to fill with mean value"
   ]
  },
  {
   "cell_type": "code",
   "execution_count": 16,
   "id": "d8b357ce",
   "metadata": {},
   "outputs": [
    {
     "name": "stdout",
     "output_type": "stream",
     "text": [
      "<class 'pandas.core.frame.DataFrame'>\n",
      "RangeIndex: 891 entries, 0 to 890\n",
      "Data columns (total 8 columns):\n",
      " #   Column       Non-Null Count  Dtype  \n",
      "---  ------       --------------  -----  \n",
      " 0   PassengerId  891 non-null    int64  \n",
      " 1   Pclass       891 non-null    int64  \n",
      " 2   Sex          891 non-null    object \n",
      " 3   Age          714 non-null    float64\n",
      " 4   SibSp        891 non-null    int64  \n",
      " 5   Parch        891 non-null    int64  \n",
      " 6   Fare         891 non-null    float64\n",
      " 7   Embarked     889 non-null    object \n",
      "dtypes: float64(2), int64(4), object(2)\n",
      "memory usage: 55.8+ KB\n"
     ]
    }
   ],
   "source": [
    "train_dataset.info()"
   ]
  },
  {
   "cell_type": "code",
   "execution_count": 17,
   "id": "0474492d",
   "metadata": {},
   "outputs": [
    {
     "data": {
      "text/html": [
       "<div>\n",
       "<style scoped>\n",
       "    .dataframe tbody tr th:only-of-type {\n",
       "        vertical-align: middle;\n",
       "    }\n",
       "\n",
       "    .dataframe tbody tr th {\n",
       "        vertical-align: top;\n",
       "    }\n",
       "\n",
       "    .dataframe thead th {\n",
       "        text-align: right;\n",
       "    }\n",
       "</style>\n",
       "<table border=\"1\" class=\"dataframe\">\n",
       "  <thead>\n",
       "    <tr style=\"text-align: right;\">\n",
       "      <th></th>\n",
       "      <th>PassengerId</th>\n",
       "      <th>Pclass</th>\n",
       "      <th>Age</th>\n",
       "      <th>SibSp</th>\n",
       "      <th>Parch</th>\n",
       "      <th>Fare</th>\n",
       "    </tr>\n",
       "  </thead>\n",
       "  <tbody>\n",
       "    <tr>\n",
       "      <th>0</th>\n",
       "      <td>1</td>\n",
       "      <td>3</td>\n",
       "      <td>22.0</td>\n",
       "      <td>1</td>\n",
       "      <td>0</td>\n",
       "      <td>7.2500</td>\n",
       "    </tr>\n",
       "    <tr>\n",
       "      <th>1</th>\n",
       "      <td>2</td>\n",
       "      <td>1</td>\n",
       "      <td>38.0</td>\n",
       "      <td>1</td>\n",
       "      <td>0</td>\n",
       "      <td>71.2833</td>\n",
       "    </tr>\n",
       "    <tr>\n",
       "      <th>2</th>\n",
       "      <td>3</td>\n",
       "      <td>3</td>\n",
       "      <td>26.0</td>\n",
       "      <td>0</td>\n",
       "      <td>0</td>\n",
       "      <td>7.9250</td>\n",
       "    </tr>\n",
       "    <tr>\n",
       "      <th>3</th>\n",
       "      <td>4</td>\n",
       "      <td>1</td>\n",
       "      <td>35.0</td>\n",
       "      <td>1</td>\n",
       "      <td>0</td>\n",
       "      <td>53.1000</td>\n",
       "    </tr>\n",
       "    <tr>\n",
       "      <th>4</th>\n",
       "      <td>5</td>\n",
       "      <td>3</td>\n",
       "      <td>35.0</td>\n",
       "      <td>0</td>\n",
       "      <td>0</td>\n",
       "      <td>8.0500</td>\n",
       "    </tr>\n",
       "    <tr>\n",
       "      <th>...</th>\n",
       "      <td>...</td>\n",
       "      <td>...</td>\n",
       "      <td>...</td>\n",
       "      <td>...</td>\n",
       "      <td>...</td>\n",
       "      <td>...</td>\n",
       "    </tr>\n",
       "    <tr>\n",
       "      <th>886</th>\n",
       "      <td>887</td>\n",
       "      <td>2</td>\n",
       "      <td>27.0</td>\n",
       "      <td>0</td>\n",
       "      <td>0</td>\n",
       "      <td>13.0000</td>\n",
       "    </tr>\n",
       "    <tr>\n",
       "      <th>887</th>\n",
       "      <td>888</td>\n",
       "      <td>1</td>\n",
       "      <td>19.0</td>\n",
       "      <td>0</td>\n",
       "      <td>0</td>\n",
       "      <td>30.0000</td>\n",
       "    </tr>\n",
       "    <tr>\n",
       "      <th>888</th>\n",
       "      <td>889</td>\n",
       "      <td>3</td>\n",
       "      <td>NaN</td>\n",
       "      <td>1</td>\n",
       "      <td>2</td>\n",
       "      <td>23.4500</td>\n",
       "    </tr>\n",
       "    <tr>\n",
       "      <th>889</th>\n",
       "      <td>890</td>\n",
       "      <td>1</td>\n",
       "      <td>26.0</td>\n",
       "      <td>0</td>\n",
       "      <td>0</td>\n",
       "      <td>30.0000</td>\n",
       "    </tr>\n",
       "    <tr>\n",
       "      <th>890</th>\n",
       "      <td>891</td>\n",
       "      <td>3</td>\n",
       "      <td>32.0</td>\n",
       "      <td>0</td>\n",
       "      <td>0</td>\n",
       "      <td>7.7500</td>\n",
       "    </tr>\n",
       "  </tbody>\n",
       "</table>\n",
       "<p>891 rows × 6 columns</p>\n",
       "</div>"
      ],
      "text/plain": [
       "     PassengerId  Pclass   Age  SibSp  Parch     Fare\n",
       "0              1       3  22.0      1      0   7.2500\n",
       "1              2       1  38.0      1      0  71.2833\n",
       "2              3       3  26.0      0      0   7.9250\n",
       "3              4       1  35.0      1      0  53.1000\n",
       "4              5       3  35.0      0      0   8.0500\n",
       "..           ...     ...   ...    ...    ...      ...\n",
       "886          887       2  27.0      0      0  13.0000\n",
       "887          888       1  19.0      0      0  30.0000\n",
       "888          889       3   NaN      1      2  23.4500\n",
       "889          890       1  26.0      0      0  30.0000\n",
       "890          891       3  32.0      0      0   7.7500\n",
       "\n",
       "[891 rows x 6 columns]"
      ]
     },
     "execution_count": 17,
     "metadata": {},
     "output_type": "execute_result"
    }
   ],
   "source": [
    "train_dataset.select_dtypes(include=['number'])"
   ]
  },
  {
   "cell_type": "code",
   "execution_count": 18,
   "id": "d679b9ef",
   "metadata": {},
   "outputs": [],
   "source": [
    "all_imputers_features = []  # I am going to use this variable later on for making things more easier when we encounter unproper dataset\n",
    "imputer_numeric = SimpleImputer(strategy='mean')\n",
    "train_dataset[train_dataset.select_dtypes(include=['number']).columns] = imputer_numeric.fit_transform(train_dataset.select_dtypes(include=['number']))\n",
    "all_imputers_features.append([imputer_numeric, train_dataset.select_dtypes(include=['number']).columns])"
   ]
  },
  {
   "cell_type": "markdown",
   "id": "b056c1cd",
   "metadata": {},
   "source": [
    "Lastly we need to check our Embarked fature lets examine that columns"
   ]
  },
  {
   "cell_type": "code",
   "execution_count": 19,
   "id": "8dc6ea6f",
   "metadata": {
    "scrolled": false
   },
   "outputs": [
    {
     "data": {
      "text/plain": [
       "S    644\n",
       "C    168\n",
       "Q     77\n",
       "Name: Embarked, dtype: int64"
      ]
     },
     "execution_count": 19,
     "metadata": {},
     "output_type": "execute_result"
    }
   ],
   "source": [
    "train_dataset[\"Embarked\"].value_counts()"
   ]
  },
  {
   "cell_type": "markdown",
   "id": "331e8abb",
   "metadata": {},
   "source": [
    "I am going to fill na values with most seen one S "
   ]
  },
  {
   "cell_type": "code",
   "execution_count": 20,
   "id": "ea8d32c1",
   "metadata": {},
   "outputs": [
    {
     "data": {
      "text/plain": [
       "Index(['Sex', 'Embarked'], dtype='object')"
      ]
     },
     "execution_count": 20,
     "metadata": {},
     "output_type": "execute_result"
    }
   ],
   "source": [
    "train_dataset.select_dtypes(include=['object']).columns"
   ]
  },
  {
   "cell_type": "code",
   "execution_count": 21,
   "id": "35f6e892",
   "metadata": {},
   "outputs": [],
   "source": [
    "imputer_most_frequent = SimpleImputer(strategy='most_frequent')\n",
    "train_dataset[train_dataset.select_dtypes(include=['object']).columns] = imputer_most_frequent.fit_transform(train_dataset.select_dtypes(include=['object']))\n",
    "all_imputers_features.append([imputer_most_frequent,train_dataset.select_dtypes(include=['object']).columns])"
   ]
  },
  {
   "cell_type": "markdown",
   "id": "e46fe792",
   "metadata": {},
   "source": [
    "Ok so we do not now which features are empty in test so i want to do imputer for all features and it will be mean\n",
    "but we can not apply mean for non numeric features for them we will do most_frequent "
   ]
  },
  {
   "cell_type": "code",
   "execution_count": 22,
   "id": "848bf9d9",
   "metadata": {},
   "outputs": [],
   "source": [
    "def impute(dataframe, inputers_features):\n",
    "    for _, imputer_feature in enumerate(inputers_features):\n",
    "        dataframe[imputer_feature[1]] = imputer_feature[0].transform(dataframe[imputer_feature[1]])"
   ]
  },
  {
   "cell_type": "code",
   "execution_count": 23,
   "id": "3eed4da3",
   "metadata": {},
   "outputs": [],
   "source": [
    "impute(train_dataset, all_imputers_features)"
   ]
  },
  {
   "cell_type": "markdown",
   "id": "39c3293f",
   "metadata": {},
   "source": [
    "Ok now lets see what is our columns data types"
   ]
  },
  {
   "cell_type": "code",
   "execution_count": 24,
   "id": "2d8a5c4a",
   "metadata": {
    "scrolled": true
   },
   "outputs": [
    {
     "name": "stdout",
     "output_type": "stream",
     "text": [
      "<class 'pandas.core.frame.DataFrame'>\n",
      "RangeIndex: 891 entries, 0 to 890\n",
      "Data columns (total 8 columns):\n",
      " #   Column       Non-Null Count  Dtype  \n",
      "---  ------       --------------  -----  \n",
      " 0   PassengerId  891 non-null    float64\n",
      " 1   Pclass       891 non-null    float64\n",
      " 2   Sex          891 non-null    object \n",
      " 3   Age          891 non-null    float64\n",
      " 4   SibSp        891 non-null    float64\n",
      " 5   Parch        891 non-null    float64\n",
      " 6   Fare         891 non-null    float64\n",
      " 7   Embarked     891 non-null    object \n",
      "dtypes: float64(6), object(2)\n",
      "memory usage: 55.8+ KB\n"
     ]
    }
   ],
   "source": [
    "train_dataset.info()"
   ]
  },
  {
   "cell_type": "markdown",
   "id": "175bee16",
   "metadata": {},
   "source": [
    "First lets look at Sex object"
   ]
  },
  {
   "cell_type": "markdown",
   "id": "99b8b7d6",
   "metadata": {},
   "source": [
    "Ok interesting we only got two. lets one hot encode it"
   ]
  },
  {
   "cell_type": "markdown",
   "id": "6a43cbe5",
   "metadata": {},
   "source": [
    "Now lets look at Embarked feature again for encoding it"
   ]
  },
  {
   "cell_type": "code",
   "execution_count": 25,
   "id": "97689f45",
   "metadata": {},
   "outputs": [
    {
     "data": {
      "text/plain": [
       "array(['S', 'C', 'Q'], dtype=object)"
      ]
     },
     "execution_count": 25,
     "metadata": {},
     "output_type": "execute_result"
    }
   ],
   "source": [
    "train_dataset[\"Embarked\"].unique()"
   ]
  },
  {
   "cell_type": "markdown",
   "id": "d3b3c760",
   "metadata": {},
   "source": [
    "Lets write a encoder function so we can call this function again and again for traning and testing"
   ]
  },
  {
   "cell_type": "code",
   "execution_count": 26,
   "id": "32b0a3b2",
   "metadata": {
    "scrolled": true
   },
   "outputs": [
    {
     "data": {
      "text/html": [
       "<style>#sk-container-id-1 {color: black;background-color: white;}#sk-container-id-1 pre{padding: 0;}#sk-container-id-1 div.sk-toggleable {background-color: white;}#sk-container-id-1 label.sk-toggleable__label {cursor: pointer;display: block;width: 100%;margin-bottom: 0;padding: 0.3em;box-sizing: border-box;text-align: center;}#sk-container-id-1 label.sk-toggleable__label-arrow:before {content: \"▸\";float: left;margin-right: 0.25em;color: #696969;}#sk-container-id-1 label.sk-toggleable__label-arrow:hover:before {color: black;}#sk-container-id-1 div.sk-estimator:hover label.sk-toggleable__label-arrow:before {color: black;}#sk-container-id-1 div.sk-toggleable__content {max-height: 0;max-width: 0;overflow: hidden;text-align: left;background-color: #f0f8ff;}#sk-container-id-1 div.sk-toggleable__content pre {margin: 0.2em;color: black;border-radius: 0.25em;background-color: #f0f8ff;}#sk-container-id-1 input.sk-toggleable__control:checked~div.sk-toggleable__content {max-height: 200px;max-width: 100%;overflow: auto;}#sk-container-id-1 input.sk-toggleable__control:checked~label.sk-toggleable__label-arrow:before {content: \"▾\";}#sk-container-id-1 div.sk-estimator input.sk-toggleable__control:checked~label.sk-toggleable__label {background-color: #d4ebff;}#sk-container-id-1 div.sk-label input.sk-toggleable__control:checked~label.sk-toggleable__label {background-color: #d4ebff;}#sk-container-id-1 input.sk-hidden--visually {border: 0;clip: rect(1px 1px 1px 1px);clip: rect(1px, 1px, 1px, 1px);height: 1px;margin: -1px;overflow: hidden;padding: 0;position: absolute;width: 1px;}#sk-container-id-1 div.sk-estimator {font-family: monospace;background-color: #f0f8ff;border: 1px dotted black;border-radius: 0.25em;box-sizing: border-box;margin-bottom: 0.5em;}#sk-container-id-1 div.sk-estimator:hover {background-color: #d4ebff;}#sk-container-id-1 div.sk-parallel-item::after {content: \"\";width: 100%;border-bottom: 1px solid gray;flex-grow: 1;}#sk-container-id-1 div.sk-label:hover label.sk-toggleable__label {background-color: #d4ebff;}#sk-container-id-1 div.sk-serial::before {content: \"\";position: absolute;border-left: 1px solid gray;box-sizing: border-box;top: 0;bottom: 0;left: 50%;z-index: 0;}#sk-container-id-1 div.sk-serial {display: flex;flex-direction: column;align-items: center;background-color: white;padding-right: 0.2em;padding-left: 0.2em;position: relative;}#sk-container-id-1 div.sk-item {position: relative;z-index: 1;}#sk-container-id-1 div.sk-parallel {display: flex;align-items: stretch;justify-content: center;background-color: white;position: relative;}#sk-container-id-1 div.sk-item::before, #sk-container-id-1 div.sk-parallel-item::before {content: \"\";position: absolute;border-left: 1px solid gray;box-sizing: border-box;top: 0;bottom: 0;left: 50%;z-index: -1;}#sk-container-id-1 div.sk-parallel-item {display: flex;flex-direction: column;z-index: 1;position: relative;background-color: white;}#sk-container-id-1 div.sk-parallel-item:first-child::after {align-self: flex-end;width: 50%;}#sk-container-id-1 div.sk-parallel-item:last-child::after {align-self: flex-start;width: 50%;}#sk-container-id-1 div.sk-parallel-item:only-child::after {width: 0;}#sk-container-id-1 div.sk-dashed-wrapped {border: 1px dashed gray;margin: 0 0.4em 0.5em 0.4em;box-sizing: border-box;padding-bottom: 0.4em;background-color: white;}#sk-container-id-1 div.sk-label label {font-family: monospace;font-weight: bold;display: inline-block;line-height: 1.2em;}#sk-container-id-1 div.sk-label-container {text-align: center;}#sk-container-id-1 div.sk-container {/* jupyter's `normalize.less` sets `[hidden] { display: none; }` but bootstrap.min.css set `[hidden] { display: none !important; }` so we also need the `!important` here to be able to override the default hidden behavior on the sphinx rendered scikit-learn.org. See: https://github.com/scikit-learn/scikit-learn/issues/21755 */display: inline-block !important;position: relative;}#sk-container-id-1 div.sk-text-repr-fallback {display: none;}</style><div id=\"sk-container-id-1\" class=\"sk-top-container\"><div class=\"sk-text-repr-fallback\"><pre>OneHotEncoder()</pre><b>In a Jupyter environment, please rerun this cell to show the HTML representation or trust the notebook. <br />On GitHub, the HTML representation is unable to render, please try loading this page with nbviewer.org.</b></div><div class=\"sk-container\" hidden><div class=\"sk-item\"><div class=\"sk-estimator sk-toggleable\"><input class=\"sk-toggleable__control sk-hidden--visually\" id=\"sk-estimator-id-1\" type=\"checkbox\" checked><label for=\"sk-estimator-id-1\" class=\"sk-toggleable__label sk-toggleable__label-arrow\">OneHotEncoder</label><div class=\"sk-toggleable__content\"><pre>OneHotEncoder()</pre></div></div></div></div></div>"
      ],
      "text/plain": [
       "OneHotEncoder()"
      ]
     },
     "execution_count": 26,
     "metadata": {},
     "output_type": "execute_result"
    }
   ],
   "source": [
    "all_encoders_features = [[OneHotEncoder(handle_unknown=\"error\"), [\"Sex\",\"Embarked\"]]]  # It looks like we will have only one ecoder but lets do it like that for readability and maintainability\n",
    "all_encoders_features[0][0].fit(train_dataset[[\"Sex\",\"Embarked\"]])\n",
    "# Notice that we did not apply transform because\n",
    "# One hot encoding requires few steps therefore we\n",
    "# will write a function for that"
   ]
  },
  {
   "cell_type": "code",
   "execution_count": 27,
   "id": "d83341e6",
   "metadata": {},
   "outputs": [],
   "source": [
    "def encode(dataframe, encoders_features):\n",
    "    for _, encoder_feature in enumerate(encoders_features):\n",
    "        encoded_array = encoder_feature[0].transform(dataframe[encoder_feature[1]]).toarray().astype('int32')  \n",
    "        # It returns float64 i want int32\n",
    "        # We already fit the encoder for our training data we only need to transform\n",
    "        dataframe.drop(encoder_feature[1], axis=1, inplace=True)\n",
    "        encoded_dataframe = pd.DataFrame(encoded_array, columns=encoder_feature[0].get_feature_names_out())\n",
    "        dataframe = pd.concat([dataframe, encoded_dataframe], axis=1)\n",
    "    return dataframe"
   ]
  },
  {
   "cell_type": "code",
   "execution_count": 28,
   "id": "48a16907",
   "metadata": {
    "scrolled": true
   },
   "outputs": [
    {
     "data": {
      "text/plain": [
       "[[OneHotEncoder(), ['Sex', 'Embarked']]]"
      ]
     },
     "execution_count": 28,
     "metadata": {},
     "output_type": "execute_result"
    }
   ],
   "source": [
    "all_encoders_features"
   ]
  },
  {
   "cell_type": "code",
   "execution_count": 29,
   "id": "485e26e1",
   "metadata": {
    "scrolled": false
   },
   "outputs": [],
   "source": [
    "train_dataset = encode(train_dataset, all_encoders_features)  # Yes, i know it only has one but it is nice practice i think"
   ]
  },
  {
   "cell_type": "markdown",
   "id": "f5ae718e",
   "metadata": {},
   "source": [
    "Let's check it"
   ]
  },
  {
   "cell_type": "code",
   "execution_count": 30,
   "id": "c7b89f8f",
   "metadata": {
    "scrolled": true
   },
   "outputs": [
    {
     "name": "stdout",
     "output_type": "stream",
     "text": [
      "<class 'pandas.core.frame.DataFrame'>\n",
      "RangeIndex: 891 entries, 0 to 890\n",
      "Data columns (total 11 columns):\n",
      " #   Column       Non-Null Count  Dtype  \n",
      "---  ------       --------------  -----  \n",
      " 0   PassengerId  891 non-null    float64\n",
      " 1   Pclass       891 non-null    float64\n",
      " 2   Age          891 non-null    float64\n",
      " 3   SibSp        891 non-null    float64\n",
      " 4   Parch        891 non-null    float64\n",
      " 5   Fare         891 non-null    float64\n",
      " 6   Sex_female   891 non-null    int32  \n",
      " 7   Sex_male     891 non-null    int32  \n",
      " 8   Embarked_C   891 non-null    int32  \n",
      " 9   Embarked_Q   891 non-null    int32  \n",
      " 10  Embarked_S   891 non-null    int32  \n",
      "dtypes: float64(6), int32(5)\n",
      "memory usage: 59.3 KB\n"
     ]
    }
   ],
   "source": [
    "train_dataset.info()"
   ]
  },
  {
   "cell_type": "code",
   "execution_count": 31,
   "id": "0c45d675",
   "metadata": {},
   "outputs": [
    {
     "name": "stdout",
     "output_type": "stream",
     "text": [
      "<class 'pandas.core.frame.DataFrame'>\n",
      "RangeIndex: 891 entries, 0 to 890\n",
      "Data columns (total 11 columns):\n",
      " #   Column       Non-Null Count  Dtype  \n",
      "---  ------       --------------  -----  \n",
      " 0   PassengerId  891 non-null    float64\n",
      " 1   Pclass       891 non-null    float64\n",
      " 2   Age          891 non-null    float64\n",
      " 3   SibSp        891 non-null    float64\n",
      " 4   Parch        891 non-null    float64\n",
      " 5   Fare         891 non-null    float64\n",
      " 6   Sex_female   891 non-null    int32  \n",
      " 7   Sex_male     891 non-null    int32  \n",
      " 8   Embarked_C   891 non-null    int32  \n",
      " 9   Embarked_Q   891 non-null    int32  \n",
      " 10  Embarked_S   891 non-null    int32  \n",
      "dtypes: float64(6), int32(5)\n",
      "memory usage: 59.3 KB\n"
     ]
    }
   ],
   "source": [
    "train_dataset.info()"
   ]
  },
  {
   "cell_type": "markdown",
   "id": "bfad4bb4",
   "metadata": {},
   "source": [
    "## Feature Scaling"
   ]
  },
  {
   "cell_type": "markdown",
   "id": "a6e41d8d",
   "metadata": {},
   "source": [
    "Now everythink is numerical what we need to do feature scaling but beacuse of not every ML model required feature scaling we will take copy and move on and lets make a all_scalers variable for reuse it again and again"
   ]
  },
  {
   "cell_type": "code",
   "execution_count": 32,
   "id": "af22393f",
   "metadata": {},
   "outputs": [],
   "source": [
    "train_dataset_scaled = train_dataset.copy()\n",
    "all_scalers_features = []"
   ]
  },
  {
   "cell_type": "markdown",
   "id": "7ad98aff",
   "metadata": {},
   "source": [
    "Let's see our features histogram bars we do not need to scale encoded features so i am going to draw histogram just for the rest"
   ]
  },
  {
   "cell_type": "code",
   "execution_count": 33,
   "id": "a0042733",
   "metadata": {},
   "outputs": [
    {
     "data": {
      "text/plain": [
       "array([[<Axes: title={'center': 'Age'}>,\n",
       "        <Axes: title={'center': 'SibSp'}>],\n",
       "       [<Axes: title={'center': 'PassengerId'}>,\n",
       "        <Axes: title={'center': 'Parch'}>],\n",
       "       [<Axes: title={'center': 'Fare'}>,\n",
       "        <Axes: title={'center': 'Pclass'}>]], dtype=object)"
      ]
     },
     "execution_count": 33,
     "metadata": {},
     "output_type": "execute_result"
    },
    {
     "data": {
      "image/png": "[encoded data removed]",
      "text/plain": [
       "<Figure size 1000x1000 with 6 Axes>"
      ]
     },
     "metadata": {},
     "output_type": "display_data"
    }
   ],
   "source": [
    "ft = {feature for encoder in all_encoders_features for feature in encoder[0].get_feature_names_out() }  # TODO BURADA KALDIK\n",
    "columns_to_scale = list(set(train_dataset_scaled.columns) - ft)\n",
    "train_dataset_scaled[columns_to_scale].hist(figsize=(10, 10))"
   ]
  },
  {
   "cell_type": "markdown",
   "id": "0040c853",
   "metadata": {},
   "source": [
    "Lets do minmax scaling for PassengerId beacuse it is nicesquare shaped every Id has a equal probability\n",
    "\n",
    "I want this range for 0 to 1 from 0 to 1 i want it beacuse one hot encoding does it scaling 0 to 1 #TODO burayı adam gibi yaz saçma oldu"
   ]
  },
  {
   "cell_type": "code",
   "execution_count": 34,
   "id": "edf02019",
   "metadata": {},
   "outputs": [],
   "source": [
    "minmaxscaler_passengerid = MinMaxScaler(feature_range=(0, 1))\n",
    "all_scalers_features.append([minmaxscaler_passengerid, [\"PassengerId\"]])\n"
   ]
  },
  {
   "cell_type": "markdown",
   "id": "e4735c84",
   "metadata": {},
   "source": [
    "For age lets do standart normalization"
   ]
  },
  {
   "cell_type": "code",
   "execution_count": 35,
   "id": "672bf031",
   "metadata": {},
   "outputs": [],
   "source": [
    "standardscaler_age = StandardScaler()\n",
    "all_scalers_features.append([standardscaler_age, [\"Age\"]])"
   ]
  },
  {
   "cell_type": "markdown",
   "id": "c77d0540",
   "metadata": {},
   "source": [
    "I want to scale Fare too if the model will perform badly we will do more scaling and improve some scalers"
   ]
  },
  {
   "cell_type": "code",
   "execution_count": 36,
   "id": "90b27369",
   "metadata": {
    "scrolled": false
   },
   "outputs": [],
   "source": [
    "logscaler_fare = FunctionTransformer(lambda x: np.log(x+1))\n",
    "all_scalers_features.append([logscaler_fare, \"Fare\"])"
   ]
  },
  {
   "cell_type": "code",
   "execution_count": 37,
   "id": "6365c7d5",
   "metadata": {},
   "outputs": [],
   "source": [
    "for _, scaler_feature in enumerate(all_scalers_features):\n",
    "    scaler_feature[0].fit(train_dataset_scaled[scaler_feature[1]])\n"
   ]
  },
  {
   "cell_type": "markdown",
   "id": "00ae2d1f",
   "metadata": {},
   "source": [
    "Let's define a scaler method for making it more nice"
   ]
  },
  {
   "cell_type": "code",
   "execution_count": 38,
   "id": "d630db4c",
   "metadata": {
    "scrolled": true
   },
   "outputs": [],
   "source": [
    "def scaler(dataframe, scalers_and_feature):\n",
    "    for _, scaler_feature in enumerate(scalers_and_feature):\n",
    "        dataframe[scaler_feature[1]] = scaler_feature[0].transform(dataframe[scaler_feature[1]])"
   ]
  },
  {
   "cell_type": "code",
   "execution_count": 39,
   "id": "dd201a8a",
   "metadata": {},
   "outputs": [],
   "source": [
    "scaler(train_dataset_scaled, all_scalers_features)"
   ]
  },
  {
   "cell_type": "markdown",
   "id": "cb3d746e",
   "metadata": {},
   "source": [
    "### Preparing test data"
   ]
  },
  {
   "cell_type": "markdown",
   "id": "b47bded8",
   "metadata": {},
   "source": [
    "Lets drop unnecessary columns first"
   ]
  },
  {
   "cell_type": "code",
   "execution_count": 40,
   "id": "250a70f3",
   "metadata": {},
   "outputs": [],
   "source": [
    "drop_features(test_input_dataset, unnecessary_features)"
   ]
  },
  {
   "cell_type": "markdown",
   "id": "a3bf1653",
   "metadata": {},
   "source": [
    "Lets fill the null values"
   ]
  },
  {
   "cell_type": "code",
   "execution_count": 41,
   "id": "ec472f39",
   "metadata": {},
   "outputs": [],
   "source": [
    "impute(test_input_dataset, all_imputers_features)"
   ]
  },
  {
   "cell_type": "code",
   "execution_count": 42,
   "id": "76580e5d",
   "metadata": {
    "scrolled": true
   },
   "outputs": [
    {
     "name": "stdout",
     "output_type": "stream",
     "text": [
      "<class 'pandas.core.frame.DataFrame'>\n",
      "RangeIndex: 418 entries, 0 to 417\n",
      "Data columns (total 8 columns):\n",
      " #   Column       Non-Null Count  Dtype  \n",
      "---  ------       --------------  -----  \n",
      " 0   PassengerId  418 non-null    float64\n",
      " 1   Pclass       418 non-null    float64\n",
      " 2   Sex          418 non-null    object \n",
      " 3   Age          418 non-null    float64\n",
      " 4   SibSp        418 non-null    float64\n",
      " 5   Parch        418 non-null    float64\n",
      " 6   Fare         418 non-null    float64\n",
      " 7   Embarked     418 non-null    object \n",
      "dtypes: float64(6), object(2)\n",
      "memory usage: 26.2+ KB\n"
     ]
    }
   ],
   "source": [
    "test_input_dataset.info()"
   ]
  },
  {
   "cell_type": "markdown",
   "id": "3c79be4c",
   "metadata": {},
   "source": [
    "Let's encode them"
   ]
  },
  {
   "cell_type": "code",
   "execution_count": 43,
   "id": "6502a6c8",
   "metadata": {},
   "outputs": [],
   "source": [
    "test_input_dataset = encode(test_input_dataset, all_encoders_features)"
   ]
  },
  {
   "cell_type": "code",
   "execution_count": 44,
   "id": "f54002b4",
   "metadata": {},
   "outputs": [
    {
     "name": "stdout",
     "output_type": "stream",
     "text": [
      "<class 'pandas.core.frame.DataFrame'>\n",
      "RangeIndex: 418 entries, 0 to 417\n",
      "Data columns (total 11 columns):\n",
      " #   Column       Non-Null Count  Dtype  \n",
      "---  ------       --------------  -----  \n",
      " 0   PassengerId  418 non-null    float64\n",
      " 1   Pclass       418 non-null    float64\n",
      " 2   Age          418 non-null    float64\n",
      " 3   SibSp        418 non-null    float64\n",
      " 4   Parch        418 non-null    float64\n",
      " 5   Fare         418 non-null    float64\n",
      " 6   Sex_female   418 non-null    int32  \n",
      " 7   Sex_male     418 non-null    int32  \n",
      " 8   Embarked_C   418 non-null    int32  \n",
      " 9   Embarked_Q   418 non-null    int32  \n",
      " 10  Embarked_S   418 non-null    int32  \n",
      "dtypes: float64(6), int32(5)\n",
      "memory usage: 27.9 KB\n"
     ]
    }
   ],
   "source": [
    "test_input_dataset.info()"
   ]
  },
  {
   "cell_type": "code",
   "execution_count": 47,
   "id": "3a228313",
   "metadata": {},
   "outputs": [],
   "source": [
    "scaler(test_input_dataset, all_scalers_features)"
   ]
  },
  {
   "cell_type": "markdown",
   "id": "a9bf1936",
   "metadata": {},
   "source": [
    "## LETS DO MODEL SONUNDA BE"
   ]
  },
  {
   "cell_type": "code",
   "execution_count": null,
   "id": "de3bfe52",
   "metadata": {},
   "outputs": [],
   "source": [
    "# TODO YUKARIDA ÇOK KARMAN ÇORMAN OLDU ONLARI BİRAZ GÜZELLEŞTİR ŞU KİTAPTAKİ PİPELİNA A GEÇME OLAYINI YAPABİLRİZ\n",
    "# ONUN İÇİN AYRI BRANCH ÇIKMAYI DÜŞÜNÜYORORUM MODELLERİ YAPTIKTAN SONRA\n",
    "# ŞİMDİLİK MODELLERİN HEPSİNİ DENEMEK İSTİYORUM"
   ]
  }
 ],
 "metadata": {
  "kernelspec": {
   "display_name": "Python 3 (ipykernel)",
   "language": "python",
   "name": "python3"
  },
  "language_info": {
   "codemirror_mode": {
    "name": "ipython",
    "version": 3
   },
   "file_extension": ".py",
   "mimetype": "text/x-python",
   "name": "python",
   "nbconvert_exporter": "python",
   "pygments_lexer": "ipython3",
   "version": "3.10.9"
  }
 },
 "nbformat": 4,
 "nbformat_minor": 5
}
